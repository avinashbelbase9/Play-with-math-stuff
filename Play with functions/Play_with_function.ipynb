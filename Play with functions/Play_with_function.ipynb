{
 "cells": [
  {
   "cell_type": "markdown",
   "metadata": {},
   "source": [
    "#Sine Function"
   ]
  },
  {
   "cell_type": "code",
   "execution_count": 1,
   "metadata": {},
   "outputs": [
    {
     "data": {
      "application/vnd.jupyter.widget-view+json": {
       "model_id": "16810d15dc1c499f8ae8fbb8e32afefb",
       "version_major": 2,
       "version_minor": 0
      },
      "text/plain": [
       "interactive(children=(FloatSlider(value=1.0, description='amp', max=1.0, min=-1.0), FloatSlider(value=1.0, des…"
      ]
     },
     "metadata": {},
     "output_type": "display_data"
    }
   ],
   "source": [
    "import numpy as np\n",
    "import matplotlib.pyplot as plt\n",
    "import ipywidgets as widgets\n",
    "\n",
    "#Update the plot based on the sliders(amplitude and Frequency) value change:\n",
    "def Update_plot(amp, freq, phase_shift):\n",
    "    x = np.linspace(0, 2*np.pi,1000)\n",
    "    y = amp*np.sin(x*freq - phase_shift)\n",
    "    fig,ax = plt.subplots(nrows = 1, ncols = 1, figsize = (10, 6))\n",
    "\n",
    "    # Set the limits of Y value in the plot\n",
    "    ax.set_ylim(-1, 1)\n",
    "\n",
    "    ax.plot(x, y, color = 'red')\n",
    "    plt.title(\"sine wave\")\n",
    "    plt.xlabel(\"X\")\n",
    "    plt.ylabel(\"Y = sin(x)\")\n",
    "    plt.legend([\"sin(x)\"])\n",
    "\n",
    "# Create Sliders for Amplitude and Frequency:\n",
    "amp_slider = widgets.FloatSlider(value = 1 ,name = \"Amplitude\", min = -1, max = 1)\n",
    "freq_slider = widgets.FloatSlider(value = 1 ,name = \"Frequency\", min = -2.5, max = 2.6)\n",
    "phase_shift_slider = widgets.FloatSlider(value = 0 ,name = \"Phase Shift\", min = -2.5, max = 2.6)\n",
    "\n",
    "interactive_plot = widgets.interactive(Update_plot, amp = amp_slider, freq = freq_slider, phase_shift = phase_shift_slider)\n",
    "\n",
    "display(interactive_plot)"
   ]
  },
  {
   "cell_type": "code",
   "execution_count": null,
   "metadata": {},
   "outputs": [],
   "source": []
  }
 ],
 "metadata": {
  "kernelspec": {
   "display_name": "Python 3",
   "language": "python",
   "name": "python3"
  },
  "language_info": {
   "codemirror_mode": {
    "name": "ipython",
    "version": 3
   },
   "file_extension": ".py",
   "mimetype": "text/x-python",
   "name": "python",
   "nbconvert_exporter": "python",
   "pygments_lexer": "ipython3",
   "version": "3.12.8"
  }
 },
 "nbformat": 4,
 "nbformat_minor": 2
}
