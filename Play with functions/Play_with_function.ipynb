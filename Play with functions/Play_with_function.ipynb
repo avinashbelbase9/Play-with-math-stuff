{
 "cells": [
  {
   "cell_type": "markdown",
   "metadata": {},
   "source": [
    "# Modules"
   ]
  },
  {
   "cell_type": "code",
   "execution_count": 24,
   "metadata": {},
   "outputs": [],
   "source": [
    "import numpy as np\n",
    "import matplotlib.pyplot as plt\n",
    "import ipywidgets as widgets\n",
    "import matplotlib.animation as animation\n",
    "from IPython.display import display\n"
   ]
  },
  {
   "cell_type": "markdown",
   "metadata": {},
   "source": [
    "#Play with Sine Function"
   ]
  },
  {
   "cell_type": "code",
   "execution_count": 5,
   "metadata": {},
   "outputs": [
    {
     "data": {
      "application/vnd.jupyter.widget-view+json": {
       "model_id": "1272436c3ff54d069fdb235c1e7f97bb",
       "version_major": 2,
       "version_minor": 0
      },
      "text/plain": [
       "interactive(children=(FloatSlider(value=1.0, description='amp', max=1.0, min=-1.0), FloatSlider(value=1.0, des…"
      ]
     },
     "metadata": {},
     "output_type": "display_data"
    }
   ],
   "source": [
    "#Update the plot based on the sliders(amplitude and Frequency) value change:\n",
    "def Update_plot(amp, freq, phase_shift):\n",
    "    x = np.linspace(0, 2*np.pi,1000)\n",
    "    y = amp*np.sin(x*freq - phase_shift)\n",
    "    fig,ax = plt.subplots(nrows = 1, ncols = 1, figsize = (10, 6))\n",
    "\n",
    "    # Set the limits of Y value in the plot\n",
    "    ax.set_ylim(-1, 1)\n",
    "\n",
    "    ax.plot(x, y, color = 'red')\n",
    "    plt.title(\"sine wave\")\n",
    "    plt.xlabel(\"X\")\n",
    "    plt.ylabel(\"Y = sin(x)\")\n",
    "    plt.legend([\"sin(x)\"])\n",
    "\n",
    "# Create Sliders for Amplitude and Frequency:\n",
    "amp_slider = widgets.FloatSlider(value = 1 ,name = \"Amplitude\", min = -1, max = 1)\n",
    "freq_slider = widgets.FloatSlider(value = 1 ,name = \"Frequency\", min = -2.5, max = 2.6)\n",
    "phase_shift_slider = widgets.FloatSlider(value = 0 ,name = \"Phase Shift\", min = -2.5, max = 2.6)\n",
    "\n",
    "interactive_plot = widgets.interactive(Update_plot, amp = amp_slider, freq = freq_slider, phase_shift = phase_shift_slider)\n",
    "\n",
    "display(interactive_plot)\n"
   ]
  },
  {
   "cell_type": "code",
   "execution_count": 3,
   "metadata": {},
   "outputs": [
    {
     "data": {
      "application/vnd.jupyter.widget-view+json": {
       "model_id": "bd6aed2d88b8482282c2d592f3e15634",
       "version_major": 2,
       "version_minor": 0
      },
      "text/plain": [
       "interactive(children=(Dropdown(description='Function', options=('sin', 'cos', 'tan', 'log', 'exp'), value='sin…"
      ]
     },
     "metadata": {},
     "output_type": "display_data"
    }
   ],
   "source": [
    "import numpy as np\n",
    "import matplotlib.pyplot as plt\n",
    "import ipywidgets as widgets\n",
    "\n",
    "def update_plot(func, amp, freq, X_phase_shift, Y_phase_shift, zoom):\n",
    "    x = np.linspace(-100*2*np.pi, 100* 2*np.pi, 100000)\n",
    "\n",
    "    if func == \"sin\":\n",
    "        y = amp * np.sin(x * freq - X_phase_shift) + Y_phase_shift\n",
    "    elif func == \"cos\":\n",
    "        y = amp * np.cos(x * freq - X_phase_shift) + Y_phase_shift\n",
    "    elif func == \"tan\":\n",
    "        y = amp * np.tan(x * freq - X_phase_shift) + Y_phase_shift\n",
    "    elif func == \"cot\":\n",
    "        y = amp * np.cot(x * freq - X_phase_shift) + Y_phase_shift\n",
    "    elif func == \"sec\":\n",
    "        y = amp * np.sec(x * freq - X_phase_shift) + Y_phase_shift\n",
    "    elif func == \"csc\":\n",
    "        y = amp * np.csc(x * freq - X_phase_shift) + Y_phase_shift\n",
    "    elif func == \"log\":\n",
    "        y = amp * np.log(abs(x * freq - X_phase_shift)) + Y_phase_shift\n",
    "    elif func == \"exp\":\n",
    "        y = amp * np.exp(x * freq - X_phase_shift) + Y_phase_shift\n",
    "\n",
    "    fig, ax = plt.subplots(nrows=1, ncols=1, figsize=(10, 6))\n",
    "    #Set the limits of Y and X value in the plot\n",
    "    ax.set_ylim(-10 * zoom, 10 * zoom)\n",
    "    ax.set_xlim(-10 * zoom, 10 * zoom)\n",
    "\n",
    "\n",
    "    ax.plot(x, y, color='red')\n",
    "    ax.set_xlabel(\"X\")\n",
    "    ax.set_ylabel(f\"Y = {func}(x)\")\n",
    "    ax.set_title(func)\n",
    "    ax.legend([f\"{func}(x)\"])\n",
    "\n",
    "# Create sliders for amplitude, frequency, and phase shifts\n",
    "amp_slider = widgets.FloatSlider(value=1, min=-30, max=30, description='Amplitude')\n",
    "freq_slider = widgets.FloatSlider(value=1, min=-5, max=5, description='Frequency')\n",
    "X_phase_shift_slider = widgets.FloatSlider(value=0, min=-100, max=100, description='X Phase Shift')\n",
    "Y_phase_shift_slider = widgets.FloatSlider(value=0, min=-100, max=100, description='Y Phase Shift')\n",
    "\n",
    "zoom_slider = widgets.FloatSlider(value=1, min=0.1, max=10, description='Zoom')\n",
    "\n",
    "# Select function dropdown\n",
    "func = widgets.Dropdown(options=[\"sin\", \"cos\", \"tan\", \"log\", \"exp\"], value=\"sin\", description=\"Function\")\n",
    "\n",
    "# Display sliders and dropdown\n",
    "interactive_plot = widgets.interactive(update_plot, func=func, amp=amp_slider, freq=freq_slider, X_phase_shift=X_phase_shift_slider, Y_phase_shift=Y_phase_shift_slider, zoom = zoom_slider)\n",
    "\n",
    "display(interactive_plot)\n"
   ]
  },
  {
   "cell_type": "code",
   "execution_count": null,
   "metadata": {},
   "outputs": [],
   "source": []
  }
 ],
 "metadata": {
  "kernelspec": {
   "display_name": "Python 3",
   "language": "python",
   "name": "python3"
  },
  "language_info": {
   "codemirror_mode": {
    "name": "ipython",
    "version": 3
   },
   "file_extension": ".py",
   "mimetype": "text/x-python",
   "name": "python",
   "nbconvert_exporter": "python",
   "pygments_lexer": "ipython3",
   "version": "3.12.8"
  }
 },
 "nbformat": 4,
 "nbformat_minor": 2
}
