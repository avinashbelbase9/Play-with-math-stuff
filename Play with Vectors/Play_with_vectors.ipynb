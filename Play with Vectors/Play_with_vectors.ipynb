{
 "cells": [
  {
   "cell_type": "markdown",
   "metadata": {},
   "source": [
    "#modules "
   ]
  },
  {
   "cell_type": "code",
   "execution_count": 13,
   "metadata": {},
   "outputs": [],
   "source": [
    "import numpy as np\n",
    "import matplotlib as mpl\n",
    "import matplotlib.pyplot as plt\n",
    "import matplotlib.lines as mlines\n",
    "import ipywidgets as widgets\n",
    "from IPython.display import display, clear_output"
   ]
  },
  {
   "cell_type": "markdown",
   "metadata": {},
   "source": [
    "#Implement vector and matrix operations (dot product, cross product, matrix multiplication)."
   ]
  },
  {
   "cell_type": "code",
   "execution_count": 4,
   "metadata": {},
   "outputs": [
    {
     "name": "stdout",
     "output_type": "stream",
     "text": [
      "Vector A: [1 3 5]\n",
      "\n",
      "Vector B: [2 4 6]\n",
      "\n",
      "Dot Product: 44\n",
      "\n",
      "Cross Product: [-2  4 -2]\n",
      "\n",
      "Matrix A: \n",
      "[[1 2 3]\n",
      " [4 5 6]\n",
      " [7 8 9]]\n",
      "\n",
      "Matrix B: \n",
      "[[10 11 12]\n",
      " [13 14 15]\n",
      " [16 17 18]]\n",
      "\n",
      "Matrix Product: \n",
      "[[ 84  90  96]\n",
      " [201 216 231]\n",
      " [318 342 366]]\n",
      "\n"
     ]
    }
   ],
   "source": [
    "\n",
    "#Vector stuff\n",
    "vector_a = np.array(np.arange(1, 7, 2))\n",
    "vector_b = np.array(np.arange(2, 8, 2))\n",
    "\n",
    "dot_product = np.dot(vector_a, vector_b)\n",
    "cross_product = np.cross(vector_a, vector_b)\n",
    "\n",
    "print(f\"Vector A: {vector_a}\\n\")\n",
    "print(f\"Vector B: {vector_b}\\n\")\n",
    "print(f\"Dot Product: {dot_product}\\n\")\n",
    "print(f\"Cross Product: {cross_product}\\n\")\n",
    "\n",
    "\n",
    "#Matrix stuff\n",
    "matrix_A = np.array([\n",
    "    (np.arange(1,4)),\n",
    "    (np.arange(4,7)),\n",
    "    (np.arange(7,10))\n",
    "])\n",
    "matrix_B = np.array([\n",
    "    np.arange(10, 13),\n",
    "    np.arange(13, 16),\n",
    "    np.arange(16, 19)\n",
    "])\n",
    "matrix_product = np.matmul(matrix_A, matrix_B)\n",
    "\n",
    "print(f\"Matrix A: \\n{matrix_A}\\n\")\n",
    "print(f\"Matrix B: \\n{matrix_B}\\n\")\n",
    "print(f\"Matrix Product: \\n{matrix_product}\\n\")\n"
   ]
  },
  {
   "cell_type": "markdown",
   "metadata": {},
   "source": [
    "#Vector Addition visualization \n",
    "#Play with different values with slides"
   ]
  },
  {
   "cell_type": "code",
   "execution_count": 23,
   "metadata": {},
   "outputs": [
    {
     "data": {
      "application/vnd.jupyter.widget-view+json": {
       "model_id": "86a1c7a363c544d88c4d1ef2225a5204",
       "version_major": 2,
       "version_minor": 0
      },
      "text/plain": [
       "interactive(children=(FloatSlider(value=2.0, description='Vector A x:', max=10.0, min=-10.0, step=0.5), FloatS…"
      ]
     },
     "metadata": {},
     "output_type": "display_data"
    }
   ],
   "source": [
    "# Vector addition Visualization\n",
    "\n",
    "def create_vector_plot():\n",
    "\n",
    "    # Create the figure and axes objects\n",
    "    def customize_graph(fig, ax):\n",
    "        # Set the background color of the figure and axes\n",
    "        fig.patch.set_facecolor('#1f2021')\n",
    "        ax.patch.set_facecolor('#1f2021')\n",
    "\n",
    "        # Set the color of the grid\n",
    "        ax.tick_params(axis='x', colors='white', labelsize=9)\n",
    "        ax.tick_params(axis='y', colors='white', labelsize=9)\n",
    "\n",
    "        # Set the color of the axes labels and title\n",
    "        ax.spines[\"bottom\"].set_position(\"zero\")\n",
    "        ax.spines[\"left\"].set_position(\"zero\")\n",
    "\n",
    "        # Hide the top and right spines\n",
    "        ax.spines['top'].set_visible(False)\n",
    "        ax.spines['right'].set_visible(False)\n",
    "\n",
    "        # Set color for remaining spines\n",
    "        ax.spines[\"bottom\"].set_color(\"white\")\n",
    "        ax.spines[\"left\"].set_color(\"white\")\n",
    "\n",
    "        # Set the color of the tick params\n",
    "        ax.set_xlim([-10, 20])\n",
    "        ax.set_ylim([-10, 20])\n",
    "\n",
    "        # Set the color of the tick labels and title\n",
    "\n",
    "    # Create a function that plots a vector and return the arrow object\n",
    "    def plot_vector(ax, vector=[1, 1], color='red', label='vector', starting_position_vector=[0, 0]):\n",
    "        return ax.arrow(\n",
    "            starting_position_vector[0], starting_position_vector[1],\n",
    "            vector[0], vector[1],\n",
    "            length_includes_head=True, head_width=0.5, head_length=0.5,\n",
    "            fc=color, ec=color, label=label\n",
    "        )\n",
    "\n",
    "    # Create a function that updates the plot based on the slider values\n",
    "    def update_plot(vector_ax, vector_ay, vector_bx, vector_by):\n",
    "\n",
    "        clear_output(wait=True) #Clear the output cell\n",
    "        # Create new figure\n",
    "        fig,ax = plt.subplots(figsize=(10, 10))\n",
    "        customize_graph(fig,ax)\n",
    "\n",
    "         # Define colors for vectors\n",
    "        color_a = '#00FFFF'  # Color for Vector A (cyan)\n",
    "        color_b = '#FFA500'  # Color for Vector B (orange)\n",
    "        color_c = '#32CD32'  # Color for Vector C (green)\n",
    "\n",
    "        # Create and plot vectors\n",
    "        vector_a = np.array([vector_ax, vector_ay])\n",
    "        vector_b = np.array([vector_bx, vector_by])\n",
    "        vector_c = vector_a + vector_b\n",
    "\n",
    "        # Plot the vectors as arrows\n",
    "        arrow_a =  plot_vector(ax, vector_a, color_a, 'Vector A')\n",
    "        arrow_b = plot_vector(ax, vector_b, color_b, 'Vector B', vector_a)\n",
    "        arrow_c = plot_vector(ax, vector_c, color_c , 'Vector C')\n",
    "\n",
    "        # Create dummy lines for the legend\n",
    "        legend_lines = [\n",
    "            mlines.Line2D([0], [0], color = color_a, lw=2, label=\"Vector A\"),  # Vector A (cyan)\n",
    "            mlines.Line2D([0], [0], color = color_b, lw=2, label=\"Vector B\"),  # Vector B (orange)\n",
    "            mlines.Line2D([0], [0], color = color_c , lw=2, label=\"Vector C\")   # Vector C (green)\n",
    "        ]\n",
    "        ax.legend(handles = legend_lines,loc = 'upper right', fontsize = 8)\n",
    "\n",
    "        ax.set_title(f\"Vector_c = [ {vector_c[0]} , {vector_c[1]} ]\", fontsize = 12, color = \"white\")\n",
    "\n",
    "        #Add image of vector addition to the plot\n",
    "        plt.savefig('vector_plot.png', bbox_inches='tight')  # Save with tight layout\n",
    "\n",
    "        plt.close() #Prevents memory leaks by properly closing unused figures\n",
    "\n",
    "        display(fig)\n",
    "\n",
    "\n",
    "    # Create sliders for vector components\n",
    "    vector_ax_slider = widgets.FloatSlider(value=2, min=-10, max=10, step=0.5, description='Vector A x:')\n",
    "    vector_ay_slider = widgets.FloatSlider(value=6, min=-10, max=10, step=0.5, description='Vector A y:')\n",
    "    vector_bx_slider = widgets.FloatSlider(value=7, min=-10, max=10, step=0.5, description='Vector B x:')\n",
    "    vector_by_slider = widgets.FloatSlider(value=3, min=-10, max=10, step=0.5, description='Vector B y:')\n",
    "\n",
    "    interactive_plot = widgets.interactive(\n",
    "        update_plot, vector_ax=vector_ax_slider, vector_ay=vector_ay_slider,\n",
    "        vector_bx=vector_bx_slider, vector_by=vector_by_slider\n",
    "    )\n",
    "\n",
    "    display(interactive_plot)\n",
    "\n",
    "create_vector_plot()"
   ]
  },
  {
   "cell_type": "code",
   "execution_count": null,
   "metadata": {},
   "outputs": [],
   "source": []
  }
 ],
 "metadata": {
  "kernelspec": {
   "display_name": "Python 3",
   "language": "python",
   "name": "python3"
  },
  "language_info": {
   "codemirror_mode": {
    "name": "ipython",
    "version": 3
   },
   "file_extension": ".py",
   "mimetype": "text/x-python",
   "name": "python",
   "nbconvert_exporter": "python",
   "pygments_lexer": "ipython3",
   "version": "3.12.8"
  }
 },
 "nbformat": 4,
 "nbformat_minor": 2
}
